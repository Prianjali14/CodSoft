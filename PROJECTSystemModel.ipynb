{
  "cells": [
    {
      "cell_type": "markdown",
      "metadata": {
        "id": "view-in-github",
        "colab_type": "text"
      },
      "source": [
        "<a href=\"https://colab.research.google.com/github/Prianjali14/CodSoft/blob/main/PROJECTSystemModel.ipynb\" target=\"_parent\"><img src=\"https://colab.research.google.com/assets/colab-badge.svg\" alt=\"Open In Colab\"/></a>"
      ]
    },
    {
      "cell_type": "code",
      "execution_count": 181,
      "id": "blessed-january",
      "metadata": {
        "id": "blessed-january"
      },
      "outputs": [],
      "source": [
        "import numpy as np\n",
        "import pandas as pd\n",
        "import seaborn as sns\n",
        "import matplotlib.pyplot as plt\n",
        "import re\n",
        "import pickle"
      ]
    },
    {
      "cell_type": "code",
      "execution_count": 182,
      "id": "needed-trustee",
      "metadata": {
        "id": "needed-trustee"
      },
      "outputs": [],
      "source": [
        "# Load Myntra dataset\n",
        "myntra = pd.read_csv('myntra_excel.csv')"
      ]
    },
    {
      "cell_type": "code",
      "execution_count": 183,
      "id": "bound-vocabulary",
      "metadata": {
        "colab": {
          "base_uri": "https://localhost:8080/"
        },
        "id": "bound-vocabulary",
        "outputId": "020a6a05-bf82-49e0-85c9-796cd9f84e4e"
      },
      "outputs": [
        {
          "output_type": "execute_result",
          "data": {
            "text/plain": [
              "(8589, 26)"
            ]
          },
          "metadata": {},
          "execution_count": 183
        }
      ],
      "source": [
        "myntra.shape"
      ]
    },
    {
      "cell_type": "code",
      "execution_count": 184,
      "id": "mysterious-substance",
      "metadata": {
        "colab": {
          "base_uri": "https://localhost:8080/"
        },
        "id": "mysterious-substance",
        "outputId": "b2711be5-3649-4219-e376-02656fa0583e"
      },
      "outputs": [
        {
          "output_type": "execute_result",
          "data": {
            "text/plain": [
              "(7010, 26)"
            ]
          },
          "metadata": {},
          "execution_count": 184
        }
      ],
      "source": [
        "# Remove duplicate entries based on title from myntra\n",
        "myntra  = myntra.drop_duplicates(subset=['title'])\n",
        "myntra.shape"
      ]
    },
    {
      "cell_type": "code",
      "execution_count": 185,
      "id": "simple-sitting",
      "metadata": {
        "colab": {
          "base_uri": "https://localhost:8080/",
          "height": 1000
        },
        "id": "simple-sitting",
        "outputId": "99b8bddd-8607-4ac8-8e01-ae55458dd447"
      },
      "outputs": [
        {
          "output_type": "execute_result",
          "data": {
            "text/plain": [
              "                               uniq_id            crawl_timestamp  product_id  \\\n",
              "0     cc51c3dd925d9d84e2fb28c7918dbbc3  2019-08-11 05:49:46 +0000   6937673.0   \n",
              "1     c7e2fe388a93dae5c86b50dd8a5dbd7a  2019-07-03 01:04:34 +0000   7441182.0   \n",
              "2     76949d78057a633aace6246045eefd66  2019-07-15 09:43:31 +0000   9245141.0   \n",
              "3     5f83f6b51da1ef93bc0585577b6991e6  2019-07-15 14:11:14 +0000   1314889.0   \n",
              "4     890bf4355c319a4211296b9d3176d11f  2019-06-01 08:17:28 +0000   7705322.0   \n",
              "...                                ...                        ...         ...   \n",
              "8583  45301b44da33c727f87a759487f15938  2019-08-11 00:45:35 +0000   7320069.0   \n",
              "8584  3871ecf7306dc553ad45dbead9beb844  2019-08-14 12:15:44 +0000   8891707.0   \n",
              "8585  8d26070fff03dcb264f2b5d2f81b6843  2019-07-03 05:31:13 +0000   1778838.0   \n",
              "8587  ce47ae379572313c936c1057dff4cbfc  2019-08-14 00:42:26 +0000   1541516.0   \n",
              "8588                                66                        NaN         NaN   \n",
              "\n",
              "                                                   link     size  \\\n",
              "0     https://www.myntra.com/tops/imara/imara-women-...       XL   \n",
              "1     https://www.myntra.com/kurtas/house-of-pataudi...       XL   \n",
              "2     https://www.myntra.com/pillows/the-white-willo...        S   \n",
              "3     https://www.myntra.com/dupatta/dupatta-bazaar/...  Onesize   \n",
              "4     https://www.myntra.com/kurta-sets/manyavar/man...        S   \n",
              "...                                                 ...      ...   \n",
              "8583  https://www.myntra.com/shirts/libas/libas-wome...      XXL   \n",
              "8584                     https://www.myntra.com/8891707        M   \n",
              "8585  https://www.myntra.com/kurta-sets/biba/biba-gi...       5Y   \n",
              "8587                     https://www.myntra.com/1541516     4-5Y   \n",
              "8588                                                NaN      NaN   \n",
              "\n",
              "          variant_sku             brand  \\\n",
              "0          6937673_XL             IMARA   \n",
              "1          7441182_XL  House of Pataudi   \n",
              "2           9245141_S  The White Willow   \n",
              "3     1314889_Onesize    Dupatta Bazaar   \n",
              "4           7705322_S          Manyavar   \n",
              "...               ...               ...   \n",
              "8583      7320069_XXL             Libas   \n",
              "8584        8891707_M            ANAISA   \n",
              "8585       1778838_5Y              Biba   \n",
              "8587     1541516_4-5Y              Biba   \n",
              "8588              NaN               NaN   \n",
              "\n",
              "                                      care_instructions dominant_material  \\\n",
              "0                                 Polyester | Dry-clean         Polyester   \n",
              "1                               100% cottonMachine-wash            cotton   \n",
              "2     Polycotton | Only spot clean by hand with warm...            Cotton   \n",
              "3                                   Chiffon | Hand-wash           Chiffon   \n",
              "4     Top fabric: Silk Blend | Bottom fabric: Silk B...              Silk   \n",
              "...                                                 ...               ...   \n",
              "8583                          Viscose Rayon | Hand-wash     Viscose Rayon   \n",
              "8584                         Viscose Rayon |  Hand-wash     Viscose Rayon   \n",
              "8585                          100% cottonHand-wash cold            cotton   \n",
              "8587  Shell 1: Cotton and silk blend | Shell 2: 100%...            cotton   \n",
              "8588                                                NaN               NaN   \n",
              "\n",
              "                                                  title  ...  \\\n",
              "0                           IMARA Women Black Solid Top  ...   \n",
              "1     House of Pataudi Men Black Printed Straight Kurta  ...   \n",
              "2     The White Willow Unisex Off-White Therapedic M...  ...   \n",
              "3                           Dupatta Bazaar Pink Dupatta  ...   \n",
              "4     Manyavar Men Yellow & White Self Design Kurta ...  ...   \n",
              "...                                                 ...  ...   \n",
              "8583   Libas Women Green Regular Fit Solid Casual Shirt  ...   \n",
              "8584    ANAISA Women Red & Blue Floral Print Maxi Dress  ...   \n",
              "8585  Biba Girls Off-White & Blue Floral Print Salwa...  ...   \n",
              "8587  Biba Girls Navy & Grey Anarkali Churidar Kurta...  ...   \n",
              "8588                                                NaN  ...   \n",
              "\n",
              "                                               size_fit  \\\n",
              "0           The model (height 5'8\") is wearing a size S   \n",
              "1             The model (height 6') is wearing a size M   \n",
              "2           Dimensions: 58.42 cm x 33.02 cm x 10.16 cm    \n",
              "3                  Length: 2.3 metres Width: 1.1 metres   \n",
              "4             The model (height 6') is wearing a size M   \n",
              "...                                                 ...   \n",
              "8583        The model (height 5'8\") is wearing a size S   \n",
              "8584  Semi-Fit The model (height 5'8\") is wearing a ...   \n",
              "8585                                                NaN   \n",
              "8587                                                NaN   \n",
              "8588                                                NaN   \n",
              "\n",
              "                                      complete_the_look  \\\n",
              "0     Improve your personal style with a brand new t...   \n",
              "1     From House of Pataudi, this kurta is a great w...   \n",
              "2     The White Willow has been founded with the vis...   \n",
              "3     Complement your ethnic ensemble with this dupa...   \n",
              "4     From Manyavar, this kurta is a great way to sh...   \n",
              "...                                                 ...   \n",
              "8583  This shirt from Libas has three-quarter sleeve...   \n",
              "8584  Replace some of your outdated essentials with ...   \n",
              "8585  Finely crafted with attention to pure detailin...   \n",
              "8587  Let your little one look her ethnic best as yo...   \n",
              "8588                                                NaN   \n",
              "\n",
              "                                                   type variant_price  \\\n",
              "0               Clothing/Women/Tops/IMARA/More by IMARA         959.0   \n",
              "1     Clothing/Men/Kurtas/House of Pataudi/More by H...         799.0   \n",
              "2     Home/Unisex/Pillows/The White Willow/More by T...        1399.0   \n",
              "3     Clothing/Women/Dupatta/Dupatta Bazaar/More by ...         349.0   \n",
              "4     Clothing/Men/Kurta Sets/Manyavar/More by Manyavar        2999.0   \n",
              "...                                                 ...           ...   \n",
              "8583          Clothing/Women/Shirts/Libas/More by Libas         699.0   \n",
              "8584       Clothing/Women/Dresses/ANAISA/More by ANAISA        1149.0   \n",
              "8585        Clothing/Girls/Kurta Sets/Biba/More by Biba        1299.0   \n",
              "8587        Clothing/Girls/Kurta Sets/Biba/More by Biba        2519.0   \n",
              "8588                                                NaN           NaN   \n",
              "\n",
              "     variant_compare_at_price ideal_for   is_in_stock  \\\n",
              "0                      1599.0     Women  Out of Stock   \n",
              "1                      1999.0       Men      In Stock   \n",
              "2                      2799.0    Unisex      In Stock   \n",
              "3                       499.0     Women      In Stock   \n",
              "4                      2999.0       Men  Out of Stock   \n",
              "...                       ...       ...           ...   \n",
              "8583                   1399.0     Women  Out of Stock   \n",
              "8584                   2299.0     Women  Out of Stock   \n",
              "8585                   1299.0     Girls  Out of Stock   \n",
              "8587                   2799.0     Girls      In Stock   \n",
              "8588                      NaN       NaN           NaN   \n",
              "\n",
              "                                              inventory  \\\n",
              "0                                                     0   \n",
              "1     Shape : Straight | Sleeve Styling : Regular Sl...   \n",
              "2     Number of Components : 1 | Material : Polycott...   \n",
              "3     Pattern : Solid | Occasion : Daily | Border : ...   \n",
              "4     Occasion : Festive | Number of Components : 2 ...   \n",
              "...                                                 ...   \n",
              "8583                                                  0   \n",
              "8584                                                  0   \n",
              "8585  Dupatta Fabric : Pure Cotton | Sleeve Styling ...   \n",
              "8587                                                  1   \n",
              "8588                                                NaN   \n",
              "\n",
              "                                         specifications  Unnamed: 25  \n",
              "0     Transparency : Opaque | Sleeve Styling : Bell ...          NaN  \n",
              "1                                                   NaN          NaN  \n",
              "2                                                   NaN          NaN  \n",
              "3                                                   NaN          NaN  \n",
              "4                                                   NaN          NaN  \n",
              "...                                                 ...          ...  \n",
              "8583  Placket Length : Full | Transparency : Opaque ...          NaN  \n",
              "8584  Knit or Woven : Woven | Transparency : Opaque ...          NaN  \n",
              "8585                                                NaN          NaN  \n",
              "8587  Sleeve Styling : Regular Sleeves | Waistband :...          NaN  \n",
              "8588                                                NaN          NaN  \n",
              "\n",
              "[7010 rows x 26 columns]"
            ],
            "text/html": [
              "\n",
              "  <div id=\"df-fc57403d-776d-48c5-9c96-5b812ee935ba\" class=\"colab-df-container\">\n",
              "    <div>\n",
              "<style scoped>\n",
              "    .dataframe tbody tr th:only-of-type {\n",
              "        vertical-align: middle;\n",
              "    }\n",
              "\n",
              "    .dataframe tbody tr th {\n",
              "        vertical-align: top;\n",
              "    }\n",
              "\n",
              "    .dataframe thead th {\n",
              "        text-align: right;\n",
              "    }\n",
              "</style>\n",
              "<table border=\"1\" class=\"dataframe\">\n",
              "  <thead>\n",
              "    <tr style=\"text-align: right;\">\n",
              "      <th></th>\n",
              "      <th>uniq_id</th>\n",
              "      <th>crawl_timestamp</th>\n",
              "      <th>product_id</th>\n",
              "      <th>link</th>\n",
              "      <th>size</th>\n",
              "      <th>variant_sku</th>\n",
              "      <th>brand</th>\n",
              "      <th>care_instructions</th>\n",
              "      <th>dominant_material</th>\n",
              "      <th>title</th>\n",
              "      <th>...</th>\n",
              "      <th>size_fit</th>\n",
              "      <th>complete_the_look</th>\n",
              "      <th>type</th>\n",
              "      <th>variant_price</th>\n",
              "      <th>variant_compare_at_price</th>\n",
              "      <th>ideal_for</th>\n",
              "      <th>is_in_stock</th>\n",
              "      <th>inventory</th>\n",
              "      <th>specifications</th>\n",
              "      <th>Unnamed: 25</th>\n",
              "    </tr>\n",
              "  </thead>\n",
              "  <tbody>\n",
              "    <tr>\n",
              "      <th>0</th>\n",
              "      <td>cc51c3dd925d9d84e2fb28c7918dbbc3</td>\n",
              "      <td>2019-08-11 05:49:46 +0000</td>\n",
              "      <td>6937673.0</td>\n",
              "      <td>https://www.myntra.com/tops/imara/imara-women-...</td>\n",
              "      <td>XL</td>\n",
              "      <td>6937673_XL</td>\n",
              "      <td>IMARA</td>\n",
              "      <td>Polyester | Dry-clean</td>\n",
              "      <td>Polyester</td>\n",
              "      <td>IMARA Women Black Solid Top</td>\n",
              "      <td>...</td>\n",
              "      <td>The model (height 5'8\") is wearing a size S</td>\n",
              "      <td>Improve your personal style with a brand new t...</td>\n",
              "      <td>Clothing/Women/Tops/IMARA/More by IMARA</td>\n",
              "      <td>959.0</td>\n",
              "      <td>1599.0</td>\n",
              "      <td>Women</td>\n",
              "      <td>Out of Stock</td>\n",
              "      <td>0</td>\n",
              "      <td>Transparency : Opaque | Sleeve Styling : Bell ...</td>\n",
              "      <td>NaN</td>\n",
              "    </tr>\n",
              "    <tr>\n",
              "      <th>1</th>\n",
              "      <td>c7e2fe388a93dae5c86b50dd8a5dbd7a</td>\n",
              "      <td>2019-07-03 01:04:34 +0000</td>\n",
              "      <td>7441182.0</td>\n",
              "      <td>https://www.myntra.com/kurtas/house-of-pataudi...</td>\n",
              "      <td>XL</td>\n",
              "      <td>7441182_XL</td>\n",
              "      <td>House of Pataudi</td>\n",
              "      <td>100% cottonMachine-wash</td>\n",
              "      <td>cotton</td>\n",
              "      <td>House of Pataudi Men Black Printed Straight Kurta</td>\n",
              "      <td>...</td>\n",
              "      <td>The model (height 6') is wearing a size M</td>\n",
              "      <td>From House of Pataudi, this kurta is a great w...</td>\n",
              "      <td>Clothing/Men/Kurtas/House of Pataudi/More by H...</td>\n",
              "      <td>799.0</td>\n",
              "      <td>1999.0</td>\n",
              "      <td>Men</td>\n",
              "      <td>In Stock</td>\n",
              "      <td>Shape : Straight | Sleeve Styling : Regular Sl...</td>\n",
              "      <td>NaN</td>\n",
              "      <td>NaN</td>\n",
              "    </tr>\n",
              "    <tr>\n",
              "      <th>2</th>\n",
              "      <td>76949d78057a633aace6246045eefd66</td>\n",
              "      <td>2019-07-15 09:43:31 +0000</td>\n",
              "      <td>9245141.0</td>\n",
              "      <td>https://www.myntra.com/pillows/the-white-willo...</td>\n",
              "      <td>S</td>\n",
              "      <td>9245141_S</td>\n",
              "      <td>The White Willow</td>\n",
              "      <td>Polycotton | Only spot clean by hand with warm...</td>\n",
              "      <td>Cotton</td>\n",
              "      <td>The White Willow Unisex Off-White Therapedic M...</td>\n",
              "      <td>...</td>\n",
              "      <td>Dimensions: 58.42 cm x 33.02 cm x 10.16 cm</td>\n",
              "      <td>The White Willow has been founded with the vis...</td>\n",
              "      <td>Home/Unisex/Pillows/The White Willow/More by T...</td>\n",
              "      <td>1399.0</td>\n",
              "      <td>2799.0</td>\n",
              "      <td>Unisex</td>\n",
              "      <td>In Stock</td>\n",
              "      <td>Number of Components : 1 | Material : Polycott...</td>\n",
              "      <td>NaN</td>\n",
              "      <td>NaN</td>\n",
              "    </tr>\n",
              "    <tr>\n",
              "      <th>3</th>\n",
              "      <td>5f83f6b51da1ef93bc0585577b6991e6</td>\n",
              "      <td>2019-07-15 14:11:14 +0000</td>\n",
              "      <td>1314889.0</td>\n",
              "      <td>https://www.myntra.com/dupatta/dupatta-bazaar/...</td>\n",
              "      <td>Onesize</td>\n",
              "      <td>1314889_Onesize</td>\n",
              "      <td>Dupatta Bazaar</td>\n",
              "      <td>Chiffon | Hand-wash</td>\n",
              "      <td>Chiffon</td>\n",
              "      <td>Dupatta Bazaar Pink Dupatta</td>\n",
              "      <td>...</td>\n",
              "      <td>Length: 2.3 metres Width: 1.1 metres</td>\n",
              "      <td>Complement your ethnic ensemble with this dupa...</td>\n",
              "      <td>Clothing/Women/Dupatta/Dupatta Bazaar/More by ...</td>\n",
              "      <td>349.0</td>\n",
              "      <td>499.0</td>\n",
              "      <td>Women</td>\n",
              "      <td>In Stock</td>\n",
              "      <td>Pattern : Solid | Occasion : Daily | Border : ...</td>\n",
              "      <td>NaN</td>\n",
              "      <td>NaN</td>\n",
              "    </tr>\n",
              "    <tr>\n",
              "      <th>4</th>\n",
              "      <td>890bf4355c319a4211296b9d3176d11f</td>\n",
              "      <td>2019-06-01 08:17:28 +0000</td>\n",
              "      <td>7705322.0</td>\n",
              "      <td>https://www.myntra.com/kurta-sets/manyavar/man...</td>\n",
              "      <td>S</td>\n",
              "      <td>7705322_S</td>\n",
              "      <td>Manyavar</td>\n",
              "      <td>Top fabric: Silk Blend | Bottom fabric: Silk B...</td>\n",
              "      <td>Silk</td>\n",
              "      <td>Manyavar Men Yellow &amp; White Self Design Kurta ...</td>\n",
              "      <td>...</td>\n",
              "      <td>The model (height 6') is wearing a size M</td>\n",
              "      <td>From Manyavar, this kurta is a great way to sh...</td>\n",
              "      <td>Clothing/Men/Kurta Sets/Manyavar/More by Manyavar</td>\n",
              "      <td>2999.0</td>\n",
              "      <td>2999.0</td>\n",
              "      <td>Men</td>\n",
              "      <td>Out of Stock</td>\n",
              "      <td>Occasion : Festive | Number of Components : 2 ...</td>\n",
              "      <td>NaN</td>\n",
              "      <td>NaN</td>\n",
              "    </tr>\n",
              "    <tr>\n",
              "      <th>...</th>\n",
              "      <td>...</td>\n",
              "      <td>...</td>\n",
              "      <td>...</td>\n",
              "      <td>...</td>\n",
              "      <td>...</td>\n",
              "      <td>...</td>\n",
              "      <td>...</td>\n",
              "      <td>...</td>\n",
              "      <td>...</td>\n",
              "      <td>...</td>\n",
              "      <td>...</td>\n",
              "      <td>...</td>\n",
              "      <td>...</td>\n",
              "      <td>...</td>\n",
              "      <td>...</td>\n",
              "      <td>...</td>\n",
              "      <td>...</td>\n",
              "      <td>...</td>\n",
              "      <td>...</td>\n",
              "      <td>...</td>\n",
              "      <td>...</td>\n",
              "    </tr>\n",
              "    <tr>\n",
              "      <th>8583</th>\n",
              "      <td>45301b44da33c727f87a759487f15938</td>\n",
              "      <td>2019-08-11 00:45:35 +0000</td>\n",
              "      <td>7320069.0</td>\n",
              "      <td>https://www.myntra.com/shirts/libas/libas-wome...</td>\n",
              "      <td>XXL</td>\n",
              "      <td>7320069_XXL</td>\n",
              "      <td>Libas</td>\n",
              "      <td>Viscose Rayon | Hand-wash</td>\n",
              "      <td>Viscose Rayon</td>\n",
              "      <td>Libas Women Green Regular Fit Solid Casual Shirt</td>\n",
              "      <td>...</td>\n",
              "      <td>The model (height 5'8\") is wearing a size S</td>\n",
              "      <td>This shirt from Libas has three-quarter sleeve...</td>\n",
              "      <td>Clothing/Women/Shirts/Libas/More by Libas</td>\n",
              "      <td>699.0</td>\n",
              "      <td>1399.0</td>\n",
              "      <td>Women</td>\n",
              "      <td>Out of Stock</td>\n",
              "      <td>0</td>\n",
              "      <td>Placket Length : Full | Transparency : Opaque ...</td>\n",
              "      <td>NaN</td>\n",
              "    </tr>\n",
              "    <tr>\n",
              "      <th>8584</th>\n",
              "      <td>3871ecf7306dc553ad45dbead9beb844</td>\n",
              "      <td>2019-08-14 12:15:44 +0000</td>\n",
              "      <td>8891707.0</td>\n",
              "      <td>https://www.myntra.com/8891707</td>\n",
              "      <td>M</td>\n",
              "      <td>8891707_M</td>\n",
              "      <td>ANAISA</td>\n",
              "      <td>Viscose Rayon |  Hand-wash</td>\n",
              "      <td>Viscose Rayon</td>\n",
              "      <td>ANAISA Women Red &amp; Blue Floral Print Maxi Dress</td>\n",
              "      <td>...</td>\n",
              "      <td>Semi-Fit The model (height 5'8\") is wearing a ...</td>\n",
              "      <td>Replace some of your outdated essentials with ...</td>\n",
              "      <td>Clothing/Women/Dresses/ANAISA/More by ANAISA</td>\n",
              "      <td>1149.0</td>\n",
              "      <td>2299.0</td>\n",
              "      <td>Women</td>\n",
              "      <td>Out of Stock</td>\n",
              "      <td>0</td>\n",
              "      <td>Knit or Woven : Woven | Transparency : Opaque ...</td>\n",
              "      <td>NaN</td>\n",
              "    </tr>\n",
              "    <tr>\n",
              "      <th>8585</th>\n",
              "      <td>8d26070fff03dcb264f2b5d2f81b6843</td>\n",
              "      <td>2019-07-03 05:31:13 +0000</td>\n",
              "      <td>1778838.0</td>\n",
              "      <td>https://www.myntra.com/kurta-sets/biba/biba-gi...</td>\n",
              "      <td>5Y</td>\n",
              "      <td>1778838_5Y</td>\n",
              "      <td>Biba</td>\n",
              "      <td>100% cottonHand-wash cold</td>\n",
              "      <td>cotton</td>\n",
              "      <td>Biba Girls Off-White &amp; Blue Floral Print Salwa...</td>\n",
              "      <td>...</td>\n",
              "      <td>NaN</td>\n",
              "      <td>Finely crafted with attention to pure detailin...</td>\n",
              "      <td>Clothing/Girls/Kurta Sets/Biba/More by Biba</td>\n",
              "      <td>1299.0</td>\n",
              "      <td>1299.0</td>\n",
              "      <td>Girls</td>\n",
              "      <td>Out of Stock</td>\n",
              "      <td>Dupatta Fabric : Pure Cotton | Sleeve Styling ...</td>\n",
              "      <td>NaN</td>\n",
              "      <td>NaN</td>\n",
              "    </tr>\n",
              "    <tr>\n",
              "      <th>8587</th>\n",
              "      <td>ce47ae379572313c936c1057dff4cbfc</td>\n",
              "      <td>2019-08-14 00:42:26 +0000</td>\n",
              "      <td>1541516.0</td>\n",
              "      <td>https://www.myntra.com/1541516</td>\n",
              "      <td>4-5Y</td>\n",
              "      <td>1541516_4-5Y</td>\n",
              "      <td>Biba</td>\n",
              "      <td>Shell 1: Cotton and silk blend | Shell 2: 100%...</td>\n",
              "      <td>cotton</td>\n",
              "      <td>Biba Girls Navy &amp; Grey Anarkali Churidar Kurta...</td>\n",
              "      <td>...</td>\n",
              "      <td>NaN</td>\n",
              "      <td>Let your little one look her ethnic best as yo...</td>\n",
              "      <td>Clothing/Girls/Kurta Sets/Biba/More by Biba</td>\n",
              "      <td>2519.0</td>\n",
              "      <td>2799.0</td>\n",
              "      <td>Girls</td>\n",
              "      <td>In Stock</td>\n",
              "      <td>1</td>\n",
              "      <td>Sleeve Styling : Regular Sleeves | Waistband :...</td>\n",
              "      <td>NaN</td>\n",
              "    </tr>\n",
              "    <tr>\n",
              "      <th>8588</th>\n",
              "      <td>66</td>\n",
              "      <td>NaN</td>\n",
              "      <td>NaN</td>\n",
              "      <td>NaN</td>\n",
              "      <td>NaN</td>\n",
              "      <td>NaN</td>\n",
              "      <td>NaN</td>\n",
              "      <td>NaN</td>\n",
              "      <td>NaN</td>\n",
              "      <td>NaN</td>\n",
              "      <td>...</td>\n",
              "      <td>NaN</td>\n",
              "      <td>NaN</td>\n",
              "      <td>NaN</td>\n",
              "      <td>NaN</td>\n",
              "      <td>NaN</td>\n",
              "      <td>NaN</td>\n",
              "      <td>NaN</td>\n",
              "      <td>NaN</td>\n",
              "      <td>NaN</td>\n",
              "      <td>NaN</td>\n",
              "    </tr>\n",
              "  </tbody>\n",
              "</table>\n",
              "<p>7010 rows × 26 columns</p>\n",
              "</div>\n",
              "    <div class=\"colab-df-buttons\">\n",
              "\n",
              "  <div class=\"colab-df-container\">\n",
              "    <button class=\"colab-df-convert\" onclick=\"convertToInteractive('df-fc57403d-776d-48c5-9c96-5b812ee935ba')\"\n",
              "            title=\"Convert this dataframe to an interactive table.\"\n",
              "            style=\"display:none;\">\n",
              "\n",
              "  <svg xmlns=\"http://www.w3.org/2000/svg\" height=\"24px\" viewBox=\"0 -960 960 960\">\n",
              "    <path d=\"M120-120v-720h720v720H120Zm60-500h600v-160H180v160Zm220 220h160v-160H400v160Zm0 220h160v-160H400v160ZM180-400h160v-160H180v160Zm440 0h160v-160H620v160ZM180-180h160v-160H180v160Zm440 0h160v-160H620v160Z\"/>\n",
              "  </svg>\n",
              "    </button>\n",
              "\n",
              "  <style>\n",
              "    .colab-df-container {\n",
              "      display:flex;\n",
              "      gap: 12px;\n",
              "    }\n",
              "\n",
              "    .colab-df-convert {\n",
              "      background-color: #E8F0FE;\n",
              "      border: none;\n",
              "      border-radius: 50%;\n",
              "      cursor: pointer;\n",
              "      display: none;\n",
              "      fill: #1967D2;\n",
              "      height: 32px;\n",
              "      padding: 0 0 0 0;\n",
              "      width: 32px;\n",
              "    }\n",
              "\n",
              "    .colab-df-convert:hover {\n",
              "      background-color: #E2EBFA;\n",
              "      box-shadow: 0px 1px 2px rgba(60, 64, 67, 0.3), 0px 1px 3px 1px rgba(60, 64, 67, 0.15);\n",
              "      fill: #174EA6;\n",
              "    }\n",
              "\n",
              "    .colab-df-buttons div {\n",
              "      margin-bottom: 4px;\n",
              "    }\n",
              "\n",
              "    [theme=dark] .colab-df-convert {\n",
              "      background-color: #3B4455;\n",
              "      fill: #D2E3FC;\n",
              "    }\n",
              "\n",
              "    [theme=dark] .colab-df-convert:hover {\n",
              "      background-color: #434B5C;\n",
              "      box-shadow: 0px 1px 3px 1px rgba(0, 0, 0, 0.15);\n",
              "      filter: drop-shadow(0px 1px 2px rgba(0, 0, 0, 0.3));\n",
              "      fill: #FFFFFF;\n",
              "    }\n",
              "  </style>\n",
              "\n",
              "    <script>\n",
              "      const buttonEl =\n",
              "        document.querySelector('#df-fc57403d-776d-48c5-9c96-5b812ee935ba button.colab-df-convert');\n",
              "      buttonEl.style.display =\n",
              "        google.colab.kernel.accessAllowed ? 'block' : 'none';\n",
              "\n",
              "      async function convertToInteractive(key) {\n",
              "        const element = document.querySelector('#df-fc57403d-776d-48c5-9c96-5b812ee935ba');\n",
              "        const dataTable =\n",
              "          await google.colab.kernel.invokeFunction('convertToInteractive',\n",
              "                                                    [key], {});\n",
              "        if (!dataTable) return;\n",
              "\n",
              "        const docLinkHtml = 'Like what you see? Visit the ' +\n",
              "          '<a target=\"_blank\" href=https://colab.research.google.com/notebooks/data_table.ipynb>data table notebook</a>'\n",
              "          + ' to learn more about interactive tables.';\n",
              "        element.innerHTML = '';\n",
              "        dataTable['output_type'] = 'display_data';\n",
              "        await google.colab.output.renderOutput(dataTable, element);\n",
              "        const docLink = document.createElement('div');\n",
              "        docLink.innerHTML = docLinkHtml;\n",
              "        element.appendChild(docLink);\n",
              "      }\n",
              "    </script>\n",
              "  </div>\n",
              "\n",
              "\n",
              "<div id=\"df-7d5e1dbc-f5ae-4a2e-a933-dea64d960efb\">\n",
              "  <button class=\"colab-df-quickchart\" onclick=\"quickchart('df-7d5e1dbc-f5ae-4a2e-a933-dea64d960efb')\"\n",
              "            title=\"Suggest charts\"\n",
              "            style=\"display:none;\">\n",
              "\n",
              "<svg xmlns=\"http://www.w3.org/2000/svg\" height=\"24px\"viewBox=\"0 0 24 24\"\n",
              "     width=\"24px\">\n",
              "    <g>\n",
              "        <path d=\"M19 3H5c-1.1 0-2 .9-2 2v14c0 1.1.9 2 2 2h14c1.1 0 2-.9 2-2V5c0-1.1-.9-2-2-2zM9 17H7v-7h2v7zm4 0h-2V7h2v10zm4 0h-2v-4h2v4z\"/>\n",
              "    </g>\n",
              "</svg>\n",
              "  </button>\n",
              "\n",
              "<style>\n",
              "  .colab-df-quickchart {\n",
              "      --bg-color: #E8F0FE;\n",
              "      --fill-color: #1967D2;\n",
              "      --hover-bg-color: #E2EBFA;\n",
              "      --hover-fill-color: #174EA6;\n",
              "      --disabled-fill-color: #AAA;\n",
              "      --disabled-bg-color: #DDD;\n",
              "  }\n",
              "\n",
              "  [theme=dark] .colab-df-quickchart {\n",
              "      --bg-color: #3B4455;\n",
              "      --fill-color: #D2E3FC;\n",
              "      --hover-bg-color: #434B5C;\n",
              "      --hover-fill-color: #FFFFFF;\n",
              "      --disabled-bg-color: #3B4455;\n",
              "      --disabled-fill-color: #666;\n",
              "  }\n",
              "\n",
              "  .colab-df-quickchart {\n",
              "    background-color: var(--bg-color);\n",
              "    border: none;\n",
              "    border-radius: 50%;\n",
              "    cursor: pointer;\n",
              "    display: none;\n",
              "    fill: var(--fill-color);\n",
              "    height: 32px;\n",
              "    padding: 0;\n",
              "    width: 32px;\n",
              "  }\n",
              "\n",
              "  .colab-df-quickchart:hover {\n",
              "    background-color: var(--hover-bg-color);\n",
              "    box-shadow: 0 1px 2px rgba(60, 64, 67, 0.3), 0 1px 3px 1px rgba(60, 64, 67, 0.15);\n",
              "    fill: var(--button-hover-fill-color);\n",
              "  }\n",
              "\n",
              "  .colab-df-quickchart-complete:disabled,\n",
              "  .colab-df-quickchart-complete:disabled:hover {\n",
              "    background-color: var(--disabled-bg-color);\n",
              "    fill: var(--disabled-fill-color);\n",
              "    box-shadow: none;\n",
              "  }\n",
              "\n",
              "  .colab-df-spinner {\n",
              "    border: 2px solid var(--fill-color);\n",
              "    border-color: transparent;\n",
              "    border-bottom-color: var(--fill-color);\n",
              "    animation:\n",
              "      spin 1s steps(1) infinite;\n",
              "  }\n",
              "\n",
              "  @keyframes spin {\n",
              "    0% {\n",
              "      border-color: transparent;\n",
              "      border-bottom-color: var(--fill-color);\n",
              "      border-left-color: var(--fill-color);\n",
              "    }\n",
              "    20% {\n",
              "      border-color: transparent;\n",
              "      border-left-color: var(--fill-color);\n",
              "      border-top-color: var(--fill-color);\n",
              "    }\n",
              "    30% {\n",
              "      border-color: transparent;\n",
              "      border-left-color: var(--fill-color);\n",
              "      border-top-color: var(--fill-color);\n",
              "      border-right-color: var(--fill-color);\n",
              "    }\n",
              "    40% {\n",
              "      border-color: transparent;\n",
              "      border-right-color: var(--fill-color);\n",
              "      border-top-color: var(--fill-color);\n",
              "    }\n",
              "    60% {\n",
              "      border-color: transparent;\n",
              "      border-right-color: var(--fill-color);\n",
              "    }\n",
              "    80% {\n",
              "      border-color: transparent;\n",
              "      border-right-color: var(--fill-color);\n",
              "      border-bottom-color: var(--fill-color);\n",
              "    }\n",
              "    90% {\n",
              "      border-color: transparent;\n",
              "      border-bottom-color: var(--fill-color);\n",
              "    }\n",
              "  }\n",
              "</style>\n",
              "\n",
              "  <script>\n",
              "    async function quickchart(key) {\n",
              "      const quickchartButtonEl =\n",
              "        document.querySelector('#' + key + ' button');\n",
              "      quickchartButtonEl.disabled = true;  // To prevent multiple clicks.\n",
              "      quickchartButtonEl.classList.add('colab-df-spinner');\n",
              "      try {\n",
              "        const charts = await google.colab.kernel.invokeFunction(\n",
              "            'suggestCharts', [key], {});\n",
              "      } catch (error) {\n",
              "        console.error('Error during call to suggestCharts:', error);\n",
              "      }\n",
              "      quickchartButtonEl.classList.remove('colab-df-spinner');\n",
              "      quickchartButtonEl.classList.add('colab-df-quickchart-complete');\n",
              "    }\n",
              "    (() => {\n",
              "      let quickchartButtonEl =\n",
              "        document.querySelector('#df-7d5e1dbc-f5ae-4a2e-a933-dea64d960efb button');\n",
              "      quickchartButtonEl.style.display =\n",
              "        google.colab.kernel.accessAllowed ? 'block' : 'none';\n",
              "    })();\n",
              "  </script>\n",
              "</div>\n",
              "\n",
              "  <div id=\"id_19d5a847-e161-4325-adf3-61ad0b87462a\">\n",
              "    <style>\n",
              "      .colab-df-generate {\n",
              "        background-color: #E8F0FE;\n",
              "        border: none;\n",
              "        border-radius: 50%;\n",
              "        cursor: pointer;\n",
              "        display: none;\n",
              "        fill: #1967D2;\n",
              "        height: 32px;\n",
              "        padding: 0 0 0 0;\n",
              "        width: 32px;\n",
              "      }\n",
              "\n",
              "      .colab-df-generate:hover {\n",
              "        background-color: #E2EBFA;\n",
              "        box-shadow: 0px 1px 2px rgba(60, 64, 67, 0.3), 0px 1px 3px 1px rgba(60, 64, 67, 0.15);\n",
              "        fill: #174EA6;\n",
              "      }\n",
              "\n",
              "      [theme=dark] .colab-df-generate {\n",
              "        background-color: #3B4455;\n",
              "        fill: #D2E3FC;\n",
              "      }\n",
              "\n",
              "      [theme=dark] .colab-df-generate:hover {\n",
              "        background-color: #434B5C;\n",
              "        box-shadow: 0px 1px 3px 1px rgba(0, 0, 0, 0.15);\n",
              "        filter: drop-shadow(0px 1px 2px rgba(0, 0, 0, 0.3));\n",
              "        fill: #FFFFFF;\n",
              "      }\n",
              "    </style>\n",
              "    <button class=\"colab-df-generate\" onclick=\"generateWithVariable('myntra')\"\n",
              "            title=\"Generate code using this dataframe.\"\n",
              "            style=\"display:none;\">\n",
              "\n",
              "  <svg xmlns=\"http://www.w3.org/2000/svg\" height=\"24px\"viewBox=\"0 0 24 24\"\n",
              "       width=\"24px\">\n",
              "    <path d=\"M7,19H8.4L18.45,9,17,7.55,7,17.6ZM5,21V16.75L18.45,3.32a2,2,0,0,1,2.83,0l1.4,1.43a1.91,1.91,0,0,1,.58,1.4,1.91,1.91,0,0,1-.58,1.4L9.25,21ZM18.45,9,17,7.55Zm-12,3A5.31,5.31,0,0,0,4.9,8.1,5.31,5.31,0,0,0,1,6.5,5.31,5.31,0,0,0,4.9,4.9,5.31,5.31,0,0,0,6.5,1,5.31,5.31,0,0,0,8.1,4.9,5.31,5.31,0,0,0,12,6.5,5.46,5.46,0,0,0,6.5,12Z\"/>\n",
              "  </svg>\n",
              "    </button>\n",
              "    <script>\n",
              "      (() => {\n",
              "      const buttonEl =\n",
              "        document.querySelector('#id_19d5a847-e161-4325-adf3-61ad0b87462a button.colab-df-generate');\n",
              "      buttonEl.style.display =\n",
              "        google.colab.kernel.accessAllowed ? 'block' : 'none';\n",
              "\n",
              "      buttonEl.onclick = () => {\n",
              "        google.colab.notebook.generateWithVariable('myntra');\n",
              "      }\n",
              "      })();\n",
              "    </script>\n",
              "  </div>\n",
              "\n",
              "    </div>\n",
              "  </div>\n"
            ],
            "application/vnd.google.colaboratory.intrinsic+json": {
              "type": "dataframe",
              "variable_name": "myntra"
            }
          },
          "metadata": {},
          "execution_count": 185
        }
      ],
      "source": [
        "myntra"
      ]
    },
    {
      "cell_type": "code",
      "execution_count": 186,
      "id": "packed-grill",
      "metadata": {
        "id": "packed-grill"
      },
      "outputs": [],
      "source": [
        "# After removing duplicate values, Reset index of database\n",
        "myntra.reset_index(drop=True, inplace = True)"
      ]
    },
    {
      "cell_type": "code",
      "execution_count": 187,
      "id": "turned-holiday",
      "metadata": {
        "colab": {
          "base_uri": "https://localhost:8080/"
        },
        "id": "turned-holiday",
        "outputId": "f37ecfa3-7b8e-475a-8a18-7240d88d5bb2"
      },
      "outputs": [
        {
          "output_type": "stream",
          "name": "stdout",
          "text": [
            "Index(['uniq_id', 'crawl_timestamp', 'product_id', 'link', 'size',\n",
            "       'variant_sku', 'brand', 'care_instructions', 'dominant_material',\n",
            "       'title', 'actual_color', 'dominant_color', 'product_type', 'images',\n",
            "       'body', 'product_details', 'size_fit', 'complete_the_look', 'type',\n",
            "       'variant_price', 'variant_compare_at_price', 'ideal_for', 'is_in_stock',\n",
            "       'inventory', 'specifications', 'Unnamed: 25'],\n",
            "      dtype='object')\n"
          ]
        }
      ],
      "source": [
        "# All the features of the dataset\n",
        "features = myntra.columns\n",
        "print(features)"
      ]
    },
    {
      "cell_type": "code",
      "execution_count": 188,
      "id": "roman-principal",
      "metadata": {
        "colab": {
          "base_uri": "https://localhost:8080/"
        },
        "id": "roman-principal",
        "outputId": "f2f7b418-63fb-49fb-9731-3ebe3599ddea"
      },
      "outputs": [
        {
          "output_type": "execute_result",
          "data": {
            "text/plain": [
              "uniq_id                        0\n",
              "crawl_timestamp                1\n",
              "product_id                     1\n",
              "link                           1\n",
              "size                           1\n",
              "variant_sku                    1\n",
              "brand                          1\n",
              "care_instructions             10\n",
              "dominant_material            288\n",
              "title                          1\n",
              "actual_color                 472\n",
              "dominant_color               477\n",
              "product_type                 743\n",
              "images                         1\n",
              "body                           1\n",
              "product_details                1\n",
              "size_fit                     676\n",
              "complete_the_look            126\n",
              "type                           1\n",
              "variant_price                  1\n",
              "variant_compare_at_price       1\n",
              "ideal_for                      1\n",
              "is_in_stock                    1\n",
              "inventory                     63\n",
              "specifications              3161\n",
              "Unnamed: 25                 6858\n",
              "dtype: int64"
            ]
          },
          "metadata": {},
          "execution_count": 188
        }
      ],
      "source": [
        "# To check if the dataset has any null values or not\n",
        "myntra.isnull().sum()"
      ]
    },
    {
      "cell_type": "code",
      "execution_count": 189,
      "id": "moderate-bennett",
      "metadata": {
        "colab": {
          "base_uri": "https://localhost:8080/"
        },
        "id": "moderate-bennett",
        "outputId": "d1857151-1cb2-46a3-ea31-e80215db4320"
      },
      "outputs": [
        {
          "output_type": "execute_result",
          "data": {
            "text/plain": [
              "uniq_id                                      cc51c3dd925d9d84e2fb28c7918dbbc3\n",
              "crawl_timestamp                                     2019-08-11 05:49:46 +0000\n",
              "product_id                                                          6937673.0\n",
              "link                        https://www.myntra.com/tops/imara/imara-women-...\n",
              "size                                                                       XL\n",
              "variant_sku                                                        6937673_XL\n",
              "brand                                                                   IMARA\n",
              "care_instructions                                       Polyester | Dry-clean\n",
              "dominant_material                                                   Polyester\n",
              "title                                             IMARA Women Black Solid Top\n",
              "actual_color                                                            Black\n",
              "dominant_color                                                          Black\n",
              "product_type                                                              Top\n",
              "images                      http://assets.myntassets.com/v1/assets/images/...\n",
              "body                        Black solid woven regular top,has a V-neck, th...\n",
              "product_details             Black solid woven regular top,has a V-neck, th...\n",
              "size_fit                          The model (height 5'8\") is wearing a size S\n",
              "complete_the_look           Improve your personal style with a brand new t...\n",
              "type                                  Clothing/Women/Tops/IMARA/More by IMARA\n",
              "variant_price                                                           959.0\n",
              "variant_compare_at_price                                               1599.0\n",
              "ideal_for                                                               Women\n",
              "is_in_stock                                                      Out of Stock\n",
              "inventory                                                                   0\n",
              "specifications              Transparency : Opaque | Sleeve Styling : Bell ...\n",
              "Unnamed: 25                                                               NaN\n",
              "Name: 0, dtype: object"
            ]
          },
          "metadata": {},
          "execution_count": 189
        }
      ],
      "source": [
        "# First row\n",
        "myntra.loc[0]"
      ]
    },
    {
      "cell_type": "code",
      "execution_count": 190,
      "id": "driving-laundry",
      "metadata": {
        "colab": {
          "base_uri": "https://localhost:8080/"
        },
        "id": "driving-laundry",
        "outputId": "c41d19d2-ab51-404d-df2e-99b76673192d"
      },
      "outputs": [
        {
          "output_type": "execute_result",
          "data": {
            "text/plain": [
              "product_id\n",
              "6937673.0    1\n",
              "9899891.0    1\n",
              "7241729.0    1\n",
              "6984971.0    1\n",
              "2367780.0    1\n",
              "            ..\n",
              "9452211.0    1\n",
              "6819016.0    1\n",
              "6844812.0    1\n",
              "1566627.0    1\n",
              "1541516.0    1\n",
              "Name: count, Length: 7009, dtype: int64"
            ]
          },
          "metadata": {},
          "execution_count": 190
        }
      ],
      "source": [
        "myntra['product_id'].value_counts()"
      ]
    },
    {
      "cell_type": "code",
      "execution_count": 191,
      "id": "finnish-headset",
      "metadata": {
        "colab": {
          "base_uri": "https://localhost:8080/"
        },
        "id": "finnish-headset",
        "outputId": "32883145-c103-4b44-c96d-dd7b3a2c2401"
      },
      "outputs": [
        {
          "output_type": "execute_result",
          "data": {
            "text/plain": [
              "(7010, 26)"
            ]
          },
          "metadata": {},
          "execution_count": 191
        }
      ],
      "source": [
        "# Drop duplicate products based on product_id\n",
        "myntra = myntra.drop_duplicates(subset = [\"product_id\"])\n",
        "myntra.shape"
      ]
    },
    {
      "cell_type": "code",
      "execution_count": 192,
      "id": "serial-commissioner",
      "metadata": {
        "colab": {
          "base_uri": "https://localhost:8080/"
        },
        "id": "serial-commissioner",
        "outputId": "de6c9e03-ec3c-4cf2-e28b-0d648a987ed0"
      },
      "outputs": [
        {
          "output_type": "execute_result",
          "data": {
            "text/plain": [
              "product_id\n",
              "6937673.0    1\n",
              "9899891.0    1\n",
              "7241729.0    1\n",
              "6984971.0    1\n",
              "2367780.0    1\n",
              "            ..\n",
              "9452211.0    1\n",
              "6819016.0    1\n",
              "6844812.0    1\n",
              "1566627.0    1\n",
              "1541516.0    1\n",
              "Name: count, Length: 7009, dtype: int64"
            ]
          },
          "metadata": {},
          "execution_count": 192
        }
      ],
      "source": [
        "# No duplicate entries available based on product_id\n",
        "myntra['product_id'].value_counts()"
      ]
    },
    {
      "cell_type": "code",
      "execution_count": 193,
      "id": "chief-terror",
      "metadata": {
        "colab": {
          "base_uri": "https://localhost:8080/"
        },
        "id": "chief-terror",
        "outputId": "62a34938-d1a9-4f78-aa58-c97922364f96"
      },
      "outputs": [
        {
          "output_type": "execute_result",
          "data": {
            "text/plain": [
              "ideal_for\n",
              "Women     4154\n",
              "Men       1872\n",
              "Girls      345\n",
              "Unisex     334\n",
              "Boys       304\n",
              "Name: count, dtype: int64"
            ]
          },
          "metadata": {},
          "execution_count": 193
        }
      ],
      "source": [
        "\n",
        "myntra['ideal_for'].value_counts()"
      ]
    },
    {
      "cell_type": "code",
      "execution_count": 194,
      "id": "surprising-metro",
      "metadata": {
        "colab": {
          "base_uri": "https://localhost:8080/",
          "height": 468
        },
        "id": "surprising-metro",
        "outputId": "6cf1ef10-dc1b-4eab-b0a4-43a697c17ddb"
      },
      "outputs": [
        {
          "output_type": "execute_result",
          "data": {
            "text/plain": [
              "<Axes: xlabel='ideal_for', ylabel='count'>"
            ]
          },
          "metadata": {},
          "execution_count": 194
        },
        {
          "output_type": "display_data",
          "data": {
            "text/plain": [
              "<Figure size 640x480 with 1 Axes>"
            ],
            "image/png": "[encoded data removed]"
          },
          "metadata": {}
        }
      ],
      "source": [
        "sns.countplot(x = 'ideal_for', data = myntra)"
      ]
    },
    {
      "cell_type": "code",
      "execution_count": 195,
      "id": "caring-prospect",
      "metadata": {
        "colab": {
          "base_uri": "https://localhost:8080/"
        },
        "id": "caring-prospect",
        "outputId": "2334fec2-0f35-428d-9cdd-907c19d20fe6"
      },
      "outputs": [
        {
          "output_type": "execute_result",
          "data": {
            "text/plain": [
              "brand\n",
              "Anouk                    739\n",
              "Biba                     504\n",
              "Libas                    398\n",
              "Global Desi              353\n",
              "Shree                    328\n",
              "                        ... \n",
              "LOCOMOTIVE                 1\n",
              "PANIT                      1\n",
              "Boutique Living India      1\n",
              "JADE BLUE                  1\n",
              "AND                        1\n",
              "Name: count, Length: 333, dtype: int64"
            ]
          },
          "metadata": {},
          "execution_count": 195
        }
      ],
      "source": [
        "myntra['brand'].value_counts()"
      ]
    },
    {
      "cell_type": "code",
      "execution_count": 196,
      "id": "early-shoot",
      "metadata": {
        "colab": {
          "base_uri": "https://localhost:8080/",
          "height": 560
        },
        "id": "early-shoot",
        "outputId": "25a8a0b4-ccfe-4bf0-c69d-5a7ae5a3f2f6"
      },
      "outputs": [
        {
          "output_type": "execute_result",
          "data": {
            "text/plain": [
              "<Axes: xlabel='brand'>"
            ]
          },
          "metadata": {},
          "execution_count": 196
        },
        {
          "output_type": "display_data",
          "data": {
            "text/plain": [
              "<Figure size 1000x600 with 1 Axes>"
            ],
            "image/png": "[encoded data removed]"
          },
          "metadata": {}
        }
      ],
      "source": [
        "# Top 10 brands bard plot\n",
        "plt.figure(figsize=(10,6))\n",
        "sns.barplot(x = myntra['brand'].value_counts().index[0:10] , y = myntra['brand'].value_counts().values[0:10] )"
      ]
    },
    {
      "cell_type": "code",
      "execution_count": 197,
      "id": "pointed-reservoir",
      "metadata": {
        "colab": {
          "base_uri": "https://localhost:8080/"
        },
        "id": "pointed-reservoir",
        "outputId": "4f418297-18b9-4e83-b29b-99a1cfd7db9b"
      },
      "outputs": [
        {
          "output_type": "stream",
          "name": "stdout",
          "text": [
            "{'Anouk': 739, 'Biba': 504, 'Libas': 398, 'Global Desi': 353, 'Shree': 328, 'Sangria': 205, 'Fabindia': 171, 'SOJANYA': 152, 'DEYANN': 137, 'IMARA': 131, 'VASTRAMAY': 121, 'GERUA': 119, 'KISAH': 110, 'Inddus': 99, 'Aj DEZInES': 99, 'even': 96, 'Freehand': 88, 'INDYA': 86, 'YK': 84, 'Soch': 82}\n"
          ]
        }
      ],
      "source": [
        "Top_Brands = dict(myntra['brand'].value_counts()[0: 20])\n",
        "print(Top_Brands)"
      ]
    },
    {
      "cell_type": "code",
      "execution_count": 198,
      "id": "atmospheric-cattle",
      "metadata": {
        "colab": {
          "base_uri": "https://localhost:8080/",
          "height": 36
        },
        "id": "atmospheric-cattle",
        "outputId": "f72bf99a-0e53-4f31-91b6-f6629c0803c7"
      },
      "outputs": [
        {
          "output_type": "execute_result",
          "data": {
            "text/plain": [
              "'0'"
            ],
            "application/vnd.google.colaboratory.intrinsic+json": {
              "type": "string"
            }
          },
          "metadata": {},
          "execution_count": 198
        }
      ],
      "source": [
        "myntra['inventory'][0]"
      ]
    },
    {
      "cell_type": "code",
      "execution_count": 199,
      "id": "american-opening",
      "metadata": {
        "colab": {
          "base_uri": "https://localhost:8080/",
          "height": 90
        },
        "id": "american-opening",
        "outputId": "c5553189-c459-482f-f69b-139f7a477ba3"
      },
      "outputs": [
        {
          "output_type": "execute_result",
          "data": {
            "text/plain": [
              "'Shape : Straight | Sleeve Styling : Regular Sleeves | Occasion : Daily | Print or Pattern Type : Geometric | Number of Components : 1 | Design Styling : Regular | Colour Family : Monochrome | Neck : Mandarin Collar | Pattern : Printed | Body or Garment Size : Garment Measurements in | Sleeve Length : Long Sleeves | Weave Pattern : Regular | Fabric Purity : Pure | Stitch : Ready to Wear | Hemline : Straight | Wash Care : Machine Wash | Weave Type : Machine Weave | Length : Knee Length | Slit Detail : Side Slits | Fabric : Cotton'"
            ],
            "application/vnd.google.colaboratory.intrinsic+json": {
              "type": "string"
            }
          },
          "metadata": {},
          "execution_count": 199
        }
      ],
      "source": [
        "myntra['inventory'][1]"
      ]
    },
    {
      "cell_type": "code",
      "execution_count": 199,
      "id": "phantom-training",
      "metadata": {
        "id": "phantom-training"
      },
      "outputs": [],
      "source": []
    },
    {
      "cell_type": "code",
      "execution_count": 200,
      "id": "reverse-addiction",
      "metadata": {
        "colab": {
          "base_uri": "https://localhost:8080/"
        },
        "id": "reverse-addiction",
        "outputId": "8fa2f7c0-ccbf-4a92-e0bc-1bcfd07a2ff6"
      },
      "outputs": [
        {
          "output_type": "execute_result",
          "data": {
            "text/plain": [
              "0                                                        \n",
              "1       Shape : Straight | Sleeve Styling : Regular Sl...\n",
              "2       Number of Components : 1 | Material : Polycott...\n",
              "3       Pattern : Solid | Occasion : Daily | Border : ...\n",
              "4       Occasion : Festive | Number of Components : 2 ...\n",
              "                              ...                        \n",
              "7005                                                     \n",
              "7006                                                     \n",
              "7007    Dupatta Fabric : Pure Cotton | Sleeve Styling ...\n",
              "7008                                                     \n",
              "7009                                                     \n",
              "Name: inventory, Length: 7010, dtype: object"
            ]
          },
          "metadata": {},
          "execution_count": 200
        }
      ],
      "source": [
        "# Firstly Fill every null values with \"\"\n",
        "myntra['inventory'].fillna(\"\", inplace = True)\n",
        "\n",
        "# If string has length less than 2 = replace it with \" \" in inventory\n",
        "def updateInventory(x):\n",
        "    if(len(x) < 2):\n",
        "        x = \" \"\n",
        "    return x\n",
        "myntra['inventory'] = myntra['inventory'].apply(updateInventory)\n",
        "\n",
        "\n",
        "myntra['inventory']\n"
      ]
    },
    {
      "cell_type": "code",
      "execution_count": 200,
      "id": "graphic-fruit",
      "metadata": {
        "id": "graphic-fruit"
      },
      "outputs": [],
      "source": []
    },
    {
      "cell_type": "code",
      "execution_count": 201,
      "id": "uniform-arthritis",
      "metadata": {
        "colab": {
          "base_uri": "https://localhost:8080/"
        },
        "id": "uniform-arthritis",
        "outputId": "ef13281b-54b4-4a38-8f73-8a48458d5818"
      },
      "outputs": [
        {
          "output_type": "execute_result",
          "data": {
            "text/plain": [
              "0                                                        \n",
              "1       shape straight sleeve styling regular sleeves ...\n",
              "2       number of components 1 material polycotton set...\n",
              "3               pattern solid occasion daily border solid\n",
              "4       occasion festive number of components 2 top pa...\n",
              "                              ...                        \n",
              "7005                                                     \n",
              "7006                                                     \n",
              "7007    dupatta fabric pure cotton sleeve styling regu...\n",
              "7008                                                     \n",
              "7009                                                     \n",
              "Name: Pre_Inventory, Length: 7010, dtype: object"
            ]
          },
          "metadata": {},
          "execution_count": 201
        }
      ],
      "source": [
        "\n",
        "# Split the string and then replace all numvers and regular expressions with \" \" and return preprocessed string which can bes used in model training\n",
        "def preprocessInventory(x):\n",
        "\n",
        "    ls = x.split(\" | \")\n",
        "\n",
        "    str = \" \".join(ls)\n",
        "    cleanString = re.sub('\\W+',' ', str ).strip()\n",
        "\n",
        "    return cleanString.lower()\n",
        "\n",
        "\n",
        "myntra['Pre_Inventory'] = myntra['inventory'].apply(preprocessInventory)\n",
        "\n",
        "myntra['Pre_Inventory']"
      ]
    },
    {
      "cell_type": "code",
      "execution_count": 202,
      "id": "headed-chemical",
      "metadata": {
        "colab": {
          "base_uri": "https://localhost:8080/",
          "height": 36
        },
        "id": "headed-chemical",
        "outputId": "5aa5d65e-28f3-4fa5-fbbb-c829ae1fb8d9"
      },
      "outputs": [
        {
          "output_type": "execute_result",
          "data": {
            "text/plain": [
              "'Clothing/Women/Tops/IMARA/More by IMARA'"
            ],
            "application/vnd.google.colaboratory.intrinsic+json": {
              "type": "string"
            }
          },
          "metadata": {},
          "execution_count": 202
        }
      ],
      "source": [
        "myntra['type'][0]"
      ]
    },
    {
      "cell_type": "code",
      "execution_count": 203,
      "id": "distinguished-floating",
      "metadata": {
        "colab": {
          "base_uri": "https://localhost:8080/",
          "height": 333
        },
        "id": "distinguished-floating",
        "outputId": "29f8833e-2647-4a40-e20b-7d232a71b86a"
      },
      "outputs": [
        {
          "output_type": "error",
          "ename": "AttributeError",
          "evalue": "'float' object has no attribute 'split'",
          "traceback": [
            "\u001b[0;31m---------------------------------------------------------------------------\u001b[0m",
            "\u001b[0;31mAttributeError\u001b[0m                            Traceback (most recent call last)",
            "\u001b[0;32m<ipython-input-203-3747713cadab>\u001b[0m in \u001b[0;36m<cell line: 8>\u001b[0;34m()\u001b[0m\n\u001b[1;32m      6\u001b[0m \u001b[0;34m\u001b[0m\u001b[0m\n\u001b[1;32m      7\u001b[0m \u001b[0;34m\u001b[0m\u001b[0m\n\u001b[0;32m----> 8\u001b[0;31m \u001b[0mmyntra\u001b[0m\u001b[0;34m[\u001b[0m\u001b[0;34m'type'\u001b[0m\u001b[0;34m]\u001b[0m \u001b[0;34m=\u001b[0m \u001b[0mmyntra\u001b[0m\u001b[0;34m[\u001b[0m\u001b[0;34m'type'\u001b[0m\u001b[0;34m]\u001b[0m\u001b[0;34m.\u001b[0m\u001b[0mapply\u001b[0m\u001b[0;34m(\u001b[0m\u001b[0mpreprocessType\u001b[0m\u001b[0;34m)\u001b[0m\u001b[0;34m\u001b[0m\u001b[0;34m\u001b[0m\u001b[0m\n\u001b[0m",
            "\u001b[0;32m/usr/local/lib/python3.10/dist-packages/pandas/core/series.py\u001b[0m in \u001b[0;36mapply\u001b[0;34m(self, func, convert_dtype, args, **kwargs)\u001b[0m\n\u001b[1;32m   4628\u001b[0m         \u001b[0mdtype\u001b[0m\u001b[0;34m:\u001b[0m \u001b[0mfloat64\u001b[0m\u001b[0;34m\u001b[0m\u001b[0;34m\u001b[0m\u001b[0m\n\u001b[1;32m   4629\u001b[0m         \"\"\"\n\u001b[0;32m-> 4630\u001b[0;31m         \u001b[0;32mreturn\u001b[0m \u001b[0mSeriesApply\u001b[0m\u001b[0;34m(\u001b[0m\u001b[0mself\u001b[0m\u001b[0;34m,\u001b[0m \u001b[0mfunc\u001b[0m\u001b[0;34m,\u001b[0m \u001b[0mconvert_dtype\u001b[0m\u001b[0;34m,\u001b[0m \u001b[0margs\u001b[0m\u001b[0;34m,\u001b[0m \u001b[0mkwargs\u001b[0m\u001b[0;34m)\u001b[0m\u001b[0;34m.\u001b[0m\u001b[0mapply\u001b[0m\u001b[0;34m(\u001b[0m\u001b[0;34m)\u001b[0m\u001b[0;34m\u001b[0m\u001b[0;34m\u001b[0m\u001b[0m\n\u001b[0m\u001b[1;32m   4631\u001b[0m \u001b[0;34m\u001b[0m\u001b[0m\n\u001b[1;32m   4632\u001b[0m     def _reduce(\n",
            "\u001b[0;32m/usr/local/lib/python3.10/dist-packages/pandas/core/apply.py\u001b[0m in \u001b[0;36mapply\u001b[0;34m(self)\u001b[0m\n\u001b[1;32m   1023\u001b[0m \u001b[0;34m\u001b[0m\u001b[0m\n\u001b[1;32m   1024\u001b[0m         \u001b[0;31m# self.f is Callable\u001b[0m\u001b[0;34m\u001b[0m\u001b[0;34m\u001b[0m\u001b[0m\n\u001b[0;32m-> 1025\u001b[0;31m         \u001b[0;32mreturn\u001b[0m \u001b[0mself\u001b[0m\u001b[0;34m.\u001b[0m\u001b[0mapply_standard\u001b[0m\u001b[0;34m(\u001b[0m\u001b[0;34m)\u001b[0m\u001b[0;34m\u001b[0m\u001b[0;34m\u001b[0m\u001b[0m\n\u001b[0m\u001b[1;32m   1026\u001b[0m \u001b[0;34m\u001b[0m\u001b[0m\n\u001b[1;32m   1027\u001b[0m     \u001b[0;32mdef\u001b[0m \u001b[0magg\u001b[0m\u001b[0;34m(\u001b[0m\u001b[0mself\u001b[0m\u001b[0;34m)\u001b[0m\u001b[0;34m:\u001b[0m\u001b[0;34m\u001b[0m\u001b[0;34m\u001b[0m\u001b[0m\n",
            "\u001b[0;32m/usr/local/lib/python3.10/dist-packages/pandas/core/apply.py\u001b[0m in \u001b[0;36mapply_standard\u001b[0;34m(self)\u001b[0m\n\u001b[1;32m   1074\u001b[0m             \u001b[0;32melse\u001b[0m\u001b[0;34m:\u001b[0m\u001b[0;34m\u001b[0m\u001b[0;34m\u001b[0m\u001b[0m\n\u001b[1;32m   1075\u001b[0m                 \u001b[0mvalues\u001b[0m \u001b[0;34m=\u001b[0m \u001b[0mobj\u001b[0m\u001b[0;34m.\u001b[0m\u001b[0mastype\u001b[0m\u001b[0;34m(\u001b[0m\u001b[0mobject\u001b[0m\u001b[0;34m)\u001b[0m\u001b[0;34m.\u001b[0m\u001b[0m_values\u001b[0m\u001b[0;34m\u001b[0m\u001b[0;34m\u001b[0m\u001b[0m\n\u001b[0;32m-> 1076\u001b[0;31m                 mapped = lib.map_infer(\n\u001b[0m\u001b[1;32m   1077\u001b[0m                     \u001b[0mvalues\u001b[0m\u001b[0;34m,\u001b[0m\u001b[0;34m\u001b[0m\u001b[0;34m\u001b[0m\u001b[0m\n\u001b[1;32m   1078\u001b[0m                     \u001b[0mf\u001b[0m\u001b[0;34m,\u001b[0m\u001b[0;34m\u001b[0m\u001b[0;34m\u001b[0m\u001b[0m\n",
            "\u001b[0;32m/usr/local/lib/python3.10/dist-packages/pandas/_libs/lib.pyx\u001b[0m in \u001b[0;36mpandas._libs.lib.map_infer\u001b[0;34m()\u001b[0m\n",
            "\u001b[0;32m<ipython-input-203-3747713cadab>\u001b[0m in \u001b[0;36mpreprocessType\u001b[0;34m(x)\u001b[0m\n\u001b[1;32m      1\u001b[0m \u001b[0;31m# for getting all values separated by \"/\" and use it into model\u001b[0m\u001b[0;34m\u001b[0m\u001b[0;34m\u001b[0m\u001b[0m\n\u001b[1;32m      2\u001b[0m \u001b[0;32mdef\u001b[0m \u001b[0mpreprocessType\u001b[0m\u001b[0;34m(\u001b[0m\u001b[0mx\u001b[0m\u001b[0;34m)\u001b[0m\u001b[0;34m:\u001b[0m\u001b[0;34m\u001b[0m\u001b[0;34m\u001b[0m\u001b[0m\n\u001b[0;32m----> 3\u001b[0;31m     \u001b[0mls\u001b[0m \u001b[0;34m=\u001b[0m \u001b[0mx\u001b[0m\u001b[0;34m.\u001b[0m\u001b[0msplit\u001b[0m\u001b[0;34m(\u001b[0m\u001b[0;34m\"/\"\u001b[0m\u001b[0;34m)\u001b[0m\u001b[0;34m\u001b[0m\u001b[0;34m\u001b[0m\u001b[0m\n\u001b[0m\u001b[1;32m      4\u001b[0m     \u001b[0mstr\u001b[0m \u001b[0;34m=\u001b[0m \u001b[0;34m' '\u001b[0m\u001b[0;34m.\u001b[0m\u001b[0mjoin\u001b[0m\u001b[0;34m(\u001b[0m\u001b[0mls\u001b[0m\u001b[0;34m)\u001b[0m\u001b[0;34m.\u001b[0m\u001b[0mstrip\u001b[0m\u001b[0;34m(\u001b[0m\u001b[0;34m)\u001b[0m\u001b[0;34m\u001b[0m\u001b[0;34m\u001b[0m\u001b[0m\n\u001b[1;32m      5\u001b[0m     \u001b[0;32mreturn\u001b[0m \u001b[0mstr\u001b[0m\u001b[0;34m.\u001b[0m\u001b[0mlower\u001b[0m\u001b[0;34m(\u001b[0m\u001b[0;34m)\u001b[0m\u001b[0;34m\u001b[0m\u001b[0;34m\u001b[0m\u001b[0m\n",
            "\u001b[0;31mAttributeError\u001b[0m: 'float' object has no attribute 'split'"
          ]
        }
      ],
      "source": [
        "# for getting all values separated by \"/\" and use it into model\n",
        "def preprocessType(x):\n",
        "    ls = x.split(\"/\")\n",
        "    str = ' '.join(ls).strip()\n",
        "    return str.lower()\n",
        "\n",
        "\n",
        "myntra['type'] = myntra['type'].apply(preprocessType)"
      ]
    },
    {
      "cell_type": "code",
      "execution_count": null,
      "id": "adaptive-guard",
      "metadata": {
        "id": "adaptive-guard"
      },
      "outputs": [],
      "source": [
        "myntra['type'][0: 5]"
      ]
    },
    {
      "cell_type": "code",
      "execution_count": null,
      "id": "owned-sleeping",
      "metadata": {
        "id": "owned-sleeping"
      },
      "outputs": [],
      "source": []
    },
    {
      "cell_type": "code",
      "execution_count": null,
      "id": "clinical-accreditation",
      "metadata": {
        "id": "clinical-accreditation"
      },
      "outputs": [],
      "source": [
        "myntra['body'][1]"
      ]
    },
    {
      "cell_type": "code",
      "execution_count": null,
      "id": "residential-parish",
      "metadata": {
        "id": "residential-parish"
      },
      "outputs": [],
      "source": [
        "# Remove numbers and regular expressions from the string and preprocess it\n",
        "\n",
        "def preproceBody(X):\n",
        "\n",
        "\n",
        "    cleanString = re.sub(r\"[^A-Za-z]+\",' ', X )\n",
        "\n",
        "    return cleanString.lower()\n",
        "\n",
        "myntra['preprocess_body'] = myntra['body'].apply(preproceBody)\n",
        "myntra['preprocess_body'][0]"
      ]
    },
    {
      "cell_type": "code",
      "execution_count": null,
      "id": "pleasant-document",
      "metadata": {
        "id": "pleasant-document"
      },
      "outputs": [],
      "source": [
        "# Fill evenry null values with \"\"\n",
        "myntra['care_instructions'].fillna(\"\", inplace=True )\n",
        "myntra['care_instructions'].isnull().sum()\n"
      ]
    },
    {
      "cell_type": "code",
      "execution_count": null,
      "id": "ready-arizona",
      "metadata": {
        "id": "ready-arizona"
      },
      "outputs": [],
      "source": [
        "myntra['dominant_material'].fillna('', inplace = True)\n",
        "myntra['dominant_color'].fillna(\"\", inplace=True)\n",
        "myntra['actual_color'].fillna(\"\", inplace=True)\n",
        "print(myntra['dominant_material'].isnull().sum())\n",
        "print(myntra['dominant_color'].isnull().sum())\n",
        "print(myntra['actual_color'].isnull().sum())"
      ]
    },
    {
      "cell_type": "code",
      "execution_count": null,
      "id": "internal-diana",
      "metadata": {
        "id": "internal-diana"
      },
      "outputs": [],
      "source": [
        "# Multiple images are there so covert them into list\n",
        "def image_process(x):\n",
        "    x = x.split(\" | \")\n",
        "\n",
        "    return x"
      ]
    },
    {
      "cell_type": "code",
      "execution_count": null,
      "id": "careful-glenn",
      "metadata": {
        "id": "careful-glenn"
      },
      "outputs": [],
      "source": [
        "\n",
        "myntra['images'] = myntra['images'].apply(image_process)\n",
        "myntra['images']"
      ]
    },
    {
      "cell_type": "code",
      "execution_count": null,
      "id": "consistent-prison",
      "metadata": {
        "id": "consistent-prison"
      },
      "outputs": [],
      "source": [
        "# remove all data with less than 4 images\n",
        "myntra = myntra[myntra['images'].apply(lambda x : len(x) > 3)]"
      ]
    },
    {
      "cell_type": "code",
      "execution_count": null,
      "id": "inner-belize",
      "metadata": {
        "id": "inner-belize"
      },
      "outputs": [],
      "source": [
        "myntra['specifications'].fillna(\"\" , inplace = True)"
      ]
    },
    {
      "cell_type": "code",
      "execution_count": null,
      "id": "incomplete-contractor",
      "metadata": {
        "id": "incomplete-contractor"
      },
      "outputs": [],
      "source": [
        "# Preprocessing\n",
        "def preprocessCareInstruction(x):\n",
        "    x = x.replace(u'\\xa0', u' ')\n",
        "    x = x.replace('-', '')\n",
        "\n",
        "\n",
        "    ls = x.split(\" | \")\n",
        "\n",
        "    str = \" \".join(ls)\n",
        "    cleanString = re.sub('\\W+',' ', str ).strip()\n",
        "\n",
        "    return cleanString.lower()\n",
        "\n",
        "\n",
        "myntra['care_instructions'] = myntra['care_instructions'].apply(preprocessCareInstruction)\n",
        "\n",
        "myntra['care_instructions'][12]"
      ]
    },
    {
      "cell_type": "code",
      "execution_count": null,
      "id": "billion-vegetation",
      "metadata": {
        "id": "billion-vegetation"
      },
      "outputs": [],
      "source": [
        "myntra.head()"
      ]
    },
    {
      "cell_type": "code",
      "execution_count": null,
      "id": "unique-lighting",
      "metadata": {
        "id": "unique-lighting"
      },
      "outputs": [],
      "source": [
        "# reset index\n",
        "myntra.reset_index(drop = True, inplace = True)"
      ]
    },
    {
      "cell_type": "code",
      "execution_count": null,
      "id": "nervous-bridge",
      "metadata": {
        "id": "nervous-bridge"
      },
      "outputs": [],
      "source": [
        "# Creating corpus of data for model training\n",
        "\n",
        "myntra['corpusData'] = myntra['size']+ \" \"  + myntra['care_instructions']+ \" \" + myntra['dominant_material']+ \" \" + myntra['actual_color'] + \" \" + myntra['dominant_color'] + \" \" + myntra['product_type']+ \" \" + myntra['preprocess_body'] + \" \" + myntra['type'] + \" \" + myntra['ideal_for'] + \" \" + myntra['Pre_Inventory']"
      ]
    },
    {
      "cell_type": "code",
      "execution_count": null,
      "id": "laden-omaha",
      "metadata": {
        "id": "laden-omaha"
      },
      "outputs": [],
      "source": [
        "# Drop Unnecessery column\n",
        "myntra.drop('Unnamed: 25', axis =1, inplace = True)"
      ]
    },
    {
      "cell_type": "code",
      "execution_count": null,
      "id": "difficult-local",
      "metadata": {
        "id": "difficult-local"
      },
      "outputs": [],
      "source": [
        "# Remove all null values\n",
        "myntra.dropna(inplace = True)"
      ]
    },
    {
      "cell_type": "code",
      "execution_count": null,
      "id": "immediate-beaver",
      "metadata": {
        "id": "immediate-beaver"
      },
      "outputs": [],
      "source": [
        "myntra.shape"
      ]
    },
    {
      "cell_type": "code",
      "execution_count": null,
      "id": "upper-return",
      "metadata": {
        "id": "upper-return"
      },
      "outputs": [],
      "source": [
        "myntra.reset_index(inplace = True)"
      ]
    },
    {
      "cell_type": "code",
      "execution_count": null,
      "id": "compliant-alpha",
      "metadata": {
        "id": "compliant-alpha"
      },
      "outputs": [],
      "source": [
        "\n",
        "# Product_id == index\n",
        "myntra['product_id'] = myntra['index']\n"
      ]
    },
    {
      "cell_type": "code",
      "execution_count": null,
      "id": "crucial-reliance",
      "metadata": {
        "id": "crucial-reliance"
      },
      "outputs": [],
      "source": [
        "myntra = myntra.drop_duplicates(subset=['title'])\n",
        "myntra.shape"
      ]
    },
    {
      "cell_type": "code",
      "execution_count": null,
      "id": "opponent-encyclopedia",
      "metadata": {
        "id": "opponent-encyclopedia"
      },
      "outputs": [],
      "source": [
        "myntra['img1'] = myntra['images'].iloc[1][0]\n",
        "myntra['img3'] = myntra['images'].iloc[1][0]\n",
        "myntra['img2'] = myntra['images'].iloc[1][0]\n",
        "myntra['img4'] = myntra['images'].iloc[1][0]"
      ]
    },
    {
      "cell_type": "code",
      "execution_count": null,
      "id": "daily-reset",
      "metadata": {
        "id": "daily-reset"
      },
      "outputs": [],
      "source": [
        "# Create 4 columns and add product images into it\n",
        "\n",
        "for i in range(myntra.shape[0]):\n",
        "    myntra['img1'].iloc[i] = myntra['images'].iloc[i][0]\n",
        "    myntra['img2'].iloc[i] = myntra['images'].iloc[i][1]\n",
        "    myntra['img3'].iloc[i] = myntra['images'].iloc[i][2]\n",
        "    myntra['img4'].iloc[i] = myntra['images'].iloc[i][3]"
      ]
    },
    {
      "cell_type": "code",
      "execution_count": null,
      "id": "furnished-lafayette",
      "metadata": {
        "id": "furnished-lafayette"
      },
      "outputs": [],
      "source": [
        "myntra.shape"
      ]
    },
    {
      "cell_type": "code",
      "execution_count": null,
      "id": "hairy-novel",
      "metadata": {
        "id": "hairy-novel"
      },
      "outputs": [],
      "source": [
        "myntra.columns"
      ]
    },
    {
      "cell_type": "code",
      "execution_count": null,
      "id": "referenced-sheriff",
      "metadata": {
        "id": "referenced-sheriff"
      },
      "outputs": [],
      "source": []
    },
    {
      "cell_type": "code",
      "execution_count": null,
      "id": "naked-scottish",
      "metadata": {
        "id": "naked-scottish"
      },
      "outputs": [],
      "source": [
        "# Load ratings dataset\n",
        "ratings = pd.read_csv('ratings.csv')"
      ]
    },
    {
      "cell_type": "code",
      "execution_count": null,
      "id": "suffering-kansas",
      "metadata": {
        "id": "suffering-kansas"
      },
      "outputs": [],
      "source": [
        "ratings.shape"
      ]
    },
    {
      "cell_type": "code",
      "execution_count": null,
      "id": "collectible-george",
      "metadata": {
        "id": "collectible-george"
      },
      "outputs": [],
      "source": [
        "ratings.head()"
      ]
    },
    {
      "cell_type": "code",
      "execution_count": null,
      "id": "every-palestinian",
      "metadata": {
        "id": "every-palestinian"
      },
      "outputs": [],
      "source": [
        "# Drop unnecessery column\n",
        "ratings.drop('Unnamed: 0' , axis =1 , inplace = True)"
      ]
    },
    {
      "cell_type": "code",
      "execution_count": null,
      "id": "associate-collaboration",
      "metadata": {
        "id": "associate-collaboration"
      },
      "outputs": [],
      "source": [
        "ratings.head(1)"
      ]
    },
    {
      "cell_type": "code",
      "execution_count": null,
      "id": "buried-repair",
      "metadata": {
        "id": "buried-repair"
      },
      "outputs": [],
      "source": [
        "# merge ratings dataset with myntra using product_id\n",
        "myntra_merge_ratings = ratings.merge(myntra , on=\"product_id\")\n",
        "myntra_merge_ratings.head(2)"
      ]
    },
    {
      "cell_type": "code",
      "execution_count": null,
      "id": "peripheral-outline",
      "metadata": {
        "id": "peripheral-outline"
      },
      "outputs": [],
      "source": [
        "myntra_merge_ratings.shape"
      ]
    },
    {
      "cell_type": "code",
      "execution_count": null,
      "id": "desperate-canada",
      "metadata": {
        "id": "desperate-canada"
      },
      "outputs": [],
      "source": [
        "\n",
        "# Total Number of counts on each products\n",
        "ratingCount = (myntra_merge_ratings.groupby(by=['title'])['Rating'].count().reset_index().rename(columns = {'Rating': \"TotalCountRating\"})[[\"title\", \"TotalCountRating\"]])"
      ]
    },
    {
      "cell_type": "code",
      "execution_count": null,
      "id": "congressional-xerox",
      "metadata": {
        "id": "congressional-xerox"
      },
      "outputs": [],
      "source": [
        "ratingCount"
      ]
    },
    {
      "cell_type": "code",
      "execution_count": null,
      "id": "noble-japan",
      "metadata": {
        "id": "noble-japan"
      },
      "outputs": [],
      "source": [
        "ratingCount.describe()"
      ]
    },
    {
      "cell_type": "code",
      "execution_count": null,
      "id": "everyday-colony",
      "metadata": {
        "id": "everyday-colony"
      },
      "outputs": [],
      "source": [
        "\n",
        "# Average product rating on each product\n",
        "averageRating = (myntra_merge_ratings.groupby(by=['title'])['Rating'].mean().reset_index().rename(columns = {'Rating': \"AverageRatingCount\"})[[\"title\", \"AverageRatingCount\"]])"
      ]
    },
    {
      "cell_type": "code",
      "execution_count": null,
      "id": "civic-tourism",
      "metadata": {
        "id": "civic-tourism"
      },
      "outputs": [],
      "source": [
        "averageRating"
      ]
    },
    {
      "cell_type": "code",
      "execution_count": null,
      "id": "nervous-chemistry",
      "metadata": {
        "id": "nervous-chemistry"
      },
      "outputs": [],
      "source": []
    },
    {
      "cell_type": "code",
      "execution_count": null,
      "id": "proof-moldova",
      "metadata": {
        "id": "proof-moldova"
      },
      "outputs": [],
      "source": [
        "# Find all the product index with ratings\n",
        "tit = ratingCount['title']\n",
        "# print(tit)\n",
        "# ind = []\n",
        "idx = []\n",
        "for title in tit:\n",
        "\n",
        "    new_df = myntra[myntra['title'] == title]\n",
        "    idx.append(new_df.index)\n",
        "\n",
        "\n",
        "prod_idx = []\n",
        "for i in idx:\n",
        "    prod_idx.append(i[0])\n",
        "len(prod_idx)"
      ]
    },
    {
      "cell_type": "code",
      "execution_count": null,
      "id": "critical-arthritis",
      "metadata": {
        "id": "critical-arthritis"
      },
      "outputs": [],
      "source": []
    },
    {
      "cell_type": "code",
      "execution_count": null,
      "id": "adopted-marriage",
      "metadata": {
        "id": "adopted-marriage"
      },
      "outputs": [],
      "source": []
    },
    {
      "cell_type": "code",
      "execution_count": null,
      "id": "directed-knowing",
      "metadata": {
        "id": "directed-knowing"
      },
      "outputs": [],
      "source": [
        "# remove all products withour rarings\n",
        "myntra = myntra.iloc[prod_idx]\n",
        "myntra.reset_index(drop = True , inplace = True)\n",
        "myntra"
      ]
    },
    {
      "cell_type": "code",
      "execution_count": null,
      "id": "romantic-prophet",
      "metadata": {
        "id": "romantic-prophet"
      },
      "outputs": [],
      "source": [
        "\n",
        "# Remove columns\n",
        "drop_columns = ['index' , 'crawl_timestamp' , 'uniq_id' , 'variant_sku', 'link'  , 'care_instructions' , 'is_in_stock', 'images', 'size_fit', 'specifications' ]\n",
        "new_df = myntra.drop(drop_columns, axis = 1)\n",
        "new_df.head()"
      ]
    },
    {
      "cell_type": "code",
      "execution_count": null,
      "id": "traditional-compatibility",
      "metadata": {
        "id": "traditional-compatibility"
      },
      "outputs": [],
      "source": [
        "\n",
        "\n",
        "drop_from_myntra = ['index' , 'crawl_timestamp', 'uniq_id', 'is_in_stock' , 'link', 'variant_sku', 'care_instructions','images', 'size_fit', 'type', 'is_in_stock' , 'Pre_Inventory', 'preprocess_body', 'corpusData' ]\n",
        "myntra.drop(drop_from_myntra, axis =1 , inplace = True)"
      ]
    },
    {
      "cell_type": "code",
      "execution_count": null,
      "id": "frozen-belfast",
      "metadata": {
        "id": "frozen-belfast"
      },
      "outputs": [],
      "source": []
    },
    {
      "cell_type": "code",
      "execution_count": null,
      "id": "described-membership",
      "metadata": {
        "id": "described-membership"
      },
      "outputs": [],
      "source": [
        "myntra.shape"
      ]
    },
    {
      "cell_type": "code",
      "execution_count": null,
      "id": "digital-flash",
      "metadata": {
        "id": "digital-flash"
      },
      "outputs": [],
      "source": [
        "# Store updated data into myntra.csv file\n",
        "myntra.to_csv('myntra.csv')"
      ]
    },
    {
      "cell_type": "markdown",
      "id": "ruled-genesis",
      "metadata": {
        "id": "ruled-genesis"
      },
      "source": [
        "## Popularity based recommendation system"
      ]
    },
    {
      "cell_type": "code",
      "execution_count": null,
      "id": "departmental-missile",
      "metadata": {
        "id": "departmental-missile"
      },
      "outputs": [],
      "source": [
        "# merge totalRating and average Rating\n",
        "rating_df = ratingCount.merge(averageRating , on=\"title\" )\n",
        "rating_df"
      ]
    },
    {
      "cell_type": "code",
      "execution_count": null,
      "id": "brilliant-worry",
      "metadata": {
        "id": "brilliant-worry"
      },
      "outputs": [],
      "source": [
        "rating_df.describe()"
      ]
    },
    {
      "cell_type": "code",
      "execution_count": null,
      "id": "caroline-firmware",
      "metadata": {
        "id": "caroline-firmware"
      },
      "outputs": [],
      "source": [
        "\n",
        "# Get popular products by query\n",
        "polular_df = rating_df[rating_df['TotalCountRating'] > 150].sort_values('AverageRatingCount', ascending=False).head(100)\n",
        "polular_df"
      ]
    },
    {
      "cell_type": "code",
      "execution_count": null,
      "id": "flying-dublin",
      "metadata": {
        "id": "flying-dublin"
      },
      "outputs": [],
      "source": [
        "# Merge popular products with myntra to get whole data\n",
        "popular_products = polular_df.merge(myntra , on=\"title\")\n",
        "popular_products"
      ]
    },
    {
      "cell_type": "code",
      "execution_count": null,
      "id": "concrete-relation",
      "metadata": {
        "id": "concrete-relation"
      },
      "outputs": [],
      "source": [
        "\n",
        "# Function for getting popular products based on gender\n",
        "def getPopularProd( data, gender, myntra):\n",
        "    data = data[data['ideal_for'] == gender]\n",
        "    ratingCount = (data.groupby(by=['title'])['Rating'].count().reset_index().rename(columns = {'Rating': \"TotalCountRating\"})[[\"title\", \"TotalCountRating\"]])\n",
        "    averageRating = (data.groupby(by=['title'])['Rating'].mean().reset_index().rename(columns = {'Rating': \"AverageRatingCount\"})[[\"title\", \"AverageRatingCount\"]])\n",
        "    rating_df = ratingCount.merge(averageRating , on=\"title\" )\n",
        "    polular_df = rating_df[rating_df['TotalCountRating'] > 100].sort_values('AverageRatingCount', ascending=False).head(100)\n",
        "    popular_products = polular_df.merge(myntra , on=\"title\")\n",
        "    return popular_products"
      ]
    },
    {
      "cell_type": "code",
      "execution_count": null,
      "id": "corrected-induction",
      "metadata": {
        "id": "corrected-induction"
      },
      "outputs": [],
      "source": [
        "# popular products for women\n",
        "women_popular = getPopularProd(myntra_merge_ratings , \"Women\" , myntra)\n",
        "women_popular"
      ]
    },
    {
      "cell_type": "code",
      "execution_count": null,
      "id": "material-drain",
      "metadata": {
        "id": "material-drain"
      },
      "outputs": [],
      "source": [
        "# popular products for men\n",
        "men_popular = getPopularProd(myntra_merge_ratings , \"Men\" , myntra)\n",
        "men_popular"
      ]
    },
    {
      "cell_type": "code",
      "execution_count": null,
      "id": "experimental-merchant",
      "metadata": {
        "id": "experimental-merchant"
      },
      "outputs": [],
      "source": [
        "# Dump the files\n",
        "pickle.dump(women_popular, open('women_popular.pkl', 'wb' ) )\n",
        "pickle.dump(men_popular, open('men_popular.pkl', 'wb' ) )\n",
        "pickle.dump(popular_products, open('popular_products.pkl', 'wb' ) )"
      ]
    },
    {
      "cell_type": "markdown",
      "id": "short-greensboro",
      "metadata": {
        "id": "short-greensboro"
      },
      "source": [
        "## Collaborative Filtering"
      ]
    },
    {
      "cell_type": "code",
      "execution_count": null,
      "id": "stuck-attention",
      "metadata": {
        "id": "stuck-attention"
      },
      "outputs": [],
      "source": [
        "# merge ratings with myntra_merge_ratings\n",
        "main_data = rating_df.merge(myntra_merge_ratings, on=\"title\")\n",
        "main_data.head(2)"
      ]
    },
    {
      "cell_type": "code",
      "execution_count": null,
      "id": "interpreted-pharmaceutical",
      "metadata": {
        "id": "interpreted-pharmaceutical"
      },
      "outputs": [],
      "source": [
        "# Create pivot matrix\n",
        "pivot_Matrix = main_data.pivot_table(index='title' , columns ='userId' , values='Rating').fillna(0)\n",
        "pivot_Matrix"
      ]
    },
    {
      "cell_type": "code",
      "execution_count": null,
      "id": "substantial-equity",
      "metadata": {
        "id": "substantial-equity"
      },
      "outputs": [],
      "source": []
    },
    {
      "cell_type": "code",
      "execution_count": null,
      "id": "retained-potential",
      "metadata": {
        "id": "retained-potential"
      },
      "outputs": [],
      "source": [
        "# Fit povot_matrix data into Nearest neighbour\n",
        "from scipy.sparse import csr_matrix\n",
        "\n",
        "main_matrix = csr_matrix(pivot_Matrix.values)\n",
        "\n",
        "from sklearn.neighbors import NearestNeighbors\n",
        "\n",
        "\n",
        "model_knn = NearestNeighbors(metric = \"cosine\", algorithm=\"brute\")\n",
        "model_knn.fit(main_matrix)"
      ]
    },
    {
      "cell_type": "code",
      "execution_count": null,
      "id": "experimental-sociology",
      "metadata": {
        "id": "experimental-sociology"
      },
      "outputs": [],
      "source": [
        "# Find distances and indices for every products\n",
        "distances , indices = model_knn.kneighbors(pivot_Matrix.iloc[0: ].values ,n_neighbors = 7)"
      ]
    },
    {
      "cell_type": "code",
      "execution_count": null,
      "id": "diverse-energy",
      "metadata": {
        "id": "diverse-energy"
      },
      "outputs": [],
      "source": [
        "indices"
      ]
    },
    {
      "cell_type": "code",
      "execution_count": null,
      "id": "alien-johnson",
      "metadata": {
        "id": "alien-johnson"
      },
      "outputs": [],
      "source": [
        "# Dump pickel files\n",
        "pickle.dump(pivot_Matrix.index, open('pivot_matrix.pkl', 'wb' ) )\n",
        "pickle.dump(indices, open('filtered_indices.pkl', 'wb' ) )"
      ]
    },
    {
      "cell_type": "code",
      "execution_count": null,
      "id": "latest-charles",
      "metadata": {
        "id": "latest-charles"
      },
      "outputs": [],
      "source": [
        "myntra['title'].iloc[4]"
      ]
    },
    {
      "cell_type": "code",
      "execution_count": null,
      "id": "fifty-exhibition",
      "metadata": {
        "id": "fifty-exhibition"
      },
      "outputs": [],
      "source": [
        "dat = np.array(pivot_Matrix.loc[myntra['title'].iloc[4]])\n",
        "dat = dat.reshape(1 ,-1)"
      ]
    },
    {
      "cell_type": "code",
      "execution_count": null,
      "id": "blond-longitude",
      "metadata": {
        "id": "blond-longitude"
      },
      "outputs": [],
      "source": [
        "distances , indices = model_knn.kneighbors(dat ,n_neighbors = 7)"
      ]
    },
    {
      "cell_type": "markdown",
      "id": "wrapped-anxiety",
      "metadata": {
        "id": "wrapped-anxiety"
      },
      "source": [
        "## Content Based"
      ]
    },
    {
      "cell_type": "code",
      "execution_count": null,
      "id": "spiritual-imaging",
      "metadata": {
        "id": "spiritual-imaging"
      },
      "outputs": [],
      "source": [
        "\n",
        "# import ntlk\n",
        "import nltk\n",
        "from nltk.stem import WordNetLemmatizer\n",
        "from nltk.corpus import stopwords\n"
      ]
    },
    {
      "cell_type": "code",
      "execution_count": null,
      "id": "surface-effect",
      "metadata": {
        "id": "surface-effect"
      },
      "outputs": [],
      "source": [
        "\n",
        "\n",
        "from sklearn.feature_extraction.text import TfidfVectorizer\n",
        "lemmatizer = WordNetLemmatizer()\n",
        "\n",
        "# Define TfidfVectorizer\n",
        "tfv = TfidfVectorizer(min_df = 20, stop_words = 'english', analyzer =\"word\" , strip_accents = \"unicode\", ngram_range= (1 , 3) )\n",
        "\n",
        "# Function to lemmatizatio of text\n",
        "def lemmatizeText(x):\n",
        "    words = nltk.word_tokenize(x)\n",
        "    words = [lemmatizer.lemmatize(word) for word in words if word not in set(stopwords.words('english'))]\n",
        "    x = ' '.join(words)\n",
        "    return x\n",
        "\n",
        "\n"
      ]
    },
    {
      "cell_type": "code",
      "execution_count": null,
      "id": "controlled-maryland",
      "metadata": {
        "id": "controlled-maryland"
      },
      "outputs": [],
      "source": [
        "# Apply lemmatization on corpus data\n",
        "new_df['corpusData'] = new_df['corpusData'].apply(lemmatizeText)\n",
        "new_df['corpusData']"
      ]
    },
    {
      "cell_type": "code",
      "execution_count": null,
      "id": "pleased-object",
      "metadata": {
        "id": "pleased-object"
      },
      "outputs": [],
      "source": []
    },
    {
      "cell_type": "code",
      "execution_count": null,
      "id": "nutritional-hometown",
      "metadata": {
        "id": "nutritional-hometown"
      },
      "outputs": [],
      "source": [
        "# Fit lemmatized corpus data into tfv\n",
        "tfv_matrix = tfv.fit_transform(new_df['corpusData'])"
      ]
    },
    {
      "cell_type": "code",
      "execution_count": null,
      "id": "painted-female",
      "metadata": {
        "id": "painted-female"
      },
      "outputs": [],
      "source": [
        "tfv_matrix"
      ]
    },
    {
      "cell_type": "code",
      "execution_count": null,
      "id": "known-first",
      "metadata": {
        "id": "known-first"
      },
      "outputs": [],
      "source": []
    },
    {
      "cell_type": "code",
      "execution_count": null,
      "id": "august-institute",
      "metadata": {
        "id": "august-institute"
      },
      "outputs": [],
      "source": [
        "tfv_matrix.shape"
      ]
    },
    {
      "cell_type": "code",
      "execution_count": null,
      "id": "broad-absence",
      "metadata": {
        "id": "broad-absence"
      },
      "outputs": [],
      "source": [
        "# For getting cosine similarity\n",
        "from sklearn.metrics.pairwise import sigmoid_kernel\n",
        "\n",
        "sig = sigmoid_kernel(tfv_matrix , tfv_matrix)\n"
      ]
    },
    {
      "cell_type": "code",
      "execution_count": null,
      "id": "inclusive-feelings",
      "metadata": {
        "id": "inclusive-feelings"
      },
      "outputs": [],
      "source": [
        "sig"
      ]
    },
    {
      "cell_type": "code",
      "execution_count": null,
      "id": "metric-alabama",
      "metadata": {
        "id": "metric-alabama"
      },
      "outputs": [],
      "source": [
        "\n",
        "indices = pd.Series(new_df.index , index = new_df['title']).drop_duplicates()\n",
        "indices"
      ]
    },
    {
      "cell_type": "code",
      "execution_count": null,
      "id": "fresh-northeast",
      "metadata": {
        "id": "fresh-northeast"
      },
      "outputs": [],
      "source": [
        "import pickle\n",
        "pickle.dump(sig, open('sig.pkl', 'wb' ) )"
      ]
    },
    {
      "cell_type": "code",
      "execution_count": null,
      "id": "nuclear-spirituality",
      "metadata": {
        "id": "nuclear-spirituality"
      },
      "outputs": [],
      "source": [
        "\n",
        "pickle.dump(indices, open('indices.pkl', 'wb' ) )"
      ]
    },
    {
      "cell_type": "code",
      "execution_count": null,
      "id": "controlled-cooler",
      "metadata": {
        "id": "controlled-cooler"
      },
      "outputs": [],
      "source": []
    },
    {
      "cell_type": "code",
      "execution_count": null,
      "id": "subjective-exploration",
      "metadata": {
        "id": "subjective-exploration"
      },
      "outputs": [],
      "source": [
        "\n",
        "# Recommandation of similar products based on title\n",
        "def recommendProduct(title , sig=sig):\n",
        "\n",
        "    index = indices[title]\n",
        "\n",
        "    sig_cs = list(enumerate(sig[index]))\n",
        "\n",
        "    sig = sorted(sig_cs , key = lambda x : x[1] , reverse= True)\n",
        "\n",
        "\n",
        "    sig_cs = sig[1: 11]\n",
        "\n",
        "    product_indices = [i[0] for i in sig_cs]\n",
        "\n",
        "    return myntra.iloc[product_indices]\n",
        ""
      ]
    },
    {
      "cell_type": "code",
      "execution_count": null,
      "id": "liable-energy",
      "metadata": {
        "id": "liable-energy"
      },
      "outputs": [],
      "source": [
        "new_df['title'][50]"
      ]
    },
    {
      "cell_type": "code",
      "execution_count": null,
      "id": "romantic-costs",
      "metadata": {
        "id": "romantic-costs"
      },
      "outputs": [],
      "source": [
        "recommendProduct(\"Libas Women Green Yoke Design Straight Kurta\")"
      ]
    },
    {
      "cell_type": "code",
      "execution_count": null,
      "id": "progressive-austria",
      "metadata": {
        "id": "progressive-austria"
      },
      "outputs": [],
      "source": []
    },
    {
      "cell_type": "code",
      "execution_count": null,
      "id": "average-gazette",
      "metadata": {
        "id": "average-gazette"
      },
      "outputs": [],
      "source": []
    },
    {
      "cell_type": "code",
      "execution_count": null,
      "id": "peripheral-reserve",
      "metadata": {
        "id": "peripheral-reserve"
      },
      "outputs": [],
      "source": []
    },
    {
      "cell_type": "code",
      "execution_count": null,
      "id": "spiritual-party",
      "metadata": {
        "id": "spiritual-party"
      },
      "outputs": [],
      "source": []
    },
    {
      "cell_type": "code",
      "execution_count": null,
      "id": "forty-fraction",
      "metadata": {
        "id": "forty-fraction"
      },
      "outputs": [],
      "source": []
    },
    {
      "cell_type": "code",
      "execution_count": null,
      "id": "considerable-philip",
      "metadata": {
        "id": "considerable-philip"
      },
      "outputs": [],
      "source": []
    },
    {
      "cell_type": "code",
      "execution_count": null,
      "id": "introductory-incidence",
      "metadata": {
        "id": "introductory-incidence"
      },
      "outputs": [],
      "source": []
    },
    {
      "cell_type": "code",
      "execution_count": null,
      "id": "moved-transparency",
      "metadata": {
        "id": "moved-transparency"
      },
      "outputs": [],
      "source": []
    },
    {
      "cell_type": "code",
      "execution_count": null,
      "id": "careful-fireplace",
      "metadata": {
        "id": "careful-fireplace"
      },
      "outputs": [],
      "source": []
    },
    {
      "cell_type": "code",
      "execution_count": null,
      "id": "pursuant-basement",
      "metadata": {
        "id": "pursuant-basement"
      },
      "outputs": [],
      "source": []
    },
    {
      "cell_type": "code",
      "execution_count": null,
      "id": "optical-broad",
      "metadata": {
        "id": "optical-broad"
      },
      "outputs": [],
      "source": [
        "# df_men = myntra[myntra['ideal_for'] == \"Men\"]\n",
        "# df_men.to_csv(\"./Dataset/men.csv\")\n",
        "# df_men.shape"
      ]
    },
    {
      "cell_type": "code",
      "execution_count": null,
      "id": "chicken-transcription",
      "metadata": {
        "id": "chicken-transcription"
      },
      "outputs": [],
      "source": [
        "# df_men = myntra[myntra['ideal_for'] == \"Women\"]\n",
        "# df_men.to_csv(\"./Dataset/woman.csv\")\n",
        "# df_men.shape"
      ]
    },
    {
      "cell_type": "code",
      "execution_count": null,
      "id": "turkish-madness",
      "metadata": {
        "id": "turkish-madness"
      },
      "outputs": [],
      "source": []
    },
    {
      "cell_type": "code",
      "execution_count": null,
      "id": "intimate-thanksgiving",
      "metadata": {
        "id": "intimate-thanksgiving"
      },
      "outputs": [],
      "source": []
    }
  ],
  "metadata": {
    "kernelspec": {
      "display_name": "Python 3",
      "language": "python",
      "name": "python3"
    },
    "language_info": {
      "codemirror_mode": {
        "name": "ipython",
        "version": 3
      },
      "file_extension": ".py",
      "mimetype": "text/x-python",
      "name": "python",
      "nbconvert_exporter": "python",
      "pygments_lexer": "ipython3",
      "version": "3.10.11"
    },
    "colab": {
      "provenance": [],
      "include_colab_link": true
    }
  },
  "nbformat": 4,
  "nbformat_minor": 5
}